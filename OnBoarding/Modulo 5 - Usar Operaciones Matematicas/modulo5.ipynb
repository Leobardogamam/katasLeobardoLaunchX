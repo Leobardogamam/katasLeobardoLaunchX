{
 "cells": [
  {
   "cell_type": "markdown",
   "metadata": {},
   "source": [
    "## Ejercicio1 - Utilizar operadores aritméticos"
   ]
  },
  {
   "cell_type": "code",
   "execution_count": null,
   "metadata": {},
   "outputs": [],
   "source": [
    "# Crear variables para almacenar las dos distancias\n",
    "# ¡Asegúrate de quitar las comas!\n",
    "tierra = 149597.870\n",
    "jupiter = 778547.200"
   ]
  },
  {
   "cell_type": "code",
   "execution_count": null,
   "metadata": {},
   "outputs": [],
   "source": [
    "# Calcular la distancia entre planetas\n",
    "distanciaKm = jupiter - tierra\n",
    "distanciaMillas = distanciaKm * 1.609334\n",
    "print(f\"La distancia en kilometros entre la Tierra y Júpiter es de {distanciaKm}\")\n",
    "print(f\"La distancia en Millas entre la Tierra y Júpiter es de {distanciaMillas}\")"
   ]
  },
  {
   "cell_type": "markdown",
   "metadata": {},
   "source": [
    " ## Ejercicio 2: convierte cadenas en números y usa valores absolutos"
   ]
  },
  {
   "cell_type": "code",
   "execution_count": null,
   "metadata": {},
   "outputs": [],
   "source": [
    "# Almacenar las entradas del usuario\n",
    "# Pista: variable = input(\"¿Cuál es tu nombre?\")\n",
    "primerPlaneta = int(input(\"Introduzca la distancia entre el primer planeta al sol:\"))\n",
    "segundoPlaneta = int(input(\"Introduzca la distancia entre el segundo planeta al sol:\"))"
   ]
  },
  {
   "cell_type": "code",
   "execution_count": null,
   "metadata": {},
   "outputs": [],
   "source": [
    "# Realizar el cálculo y determinar el valor absoluto\n",
    "valorAbsoluto = abs(segundoPlaneta - primerPlaneta)\n",
    "print(f\"El valor absoluto en km es: {valorAbsoluto}\")\n",
    "\n",
    "# Convertir de KM a Millas\n",
    "valorMillas = valorAbsoluto * .621\n",
    "print(f\"En milla es: {valorMillas}\")"
   ]
  }
 ],
 "metadata": {
  "interpreter": {
   "hash": "9bf2ca0f4a7adc3ce2f237ca763c1538d3ef289a4e7face3612a01cdae9f6807"
  },
  "kernelspec": {
   "display_name": "Python 3.10.0 64-bit",
   "language": "python",
   "name": "python3"
  },
  "language_info": {
   "codemirror_mode": {
    "name": "ipython",
    "version": 3
   },
   "file_extension": ".py",
   "mimetype": "text/x-python",
   "name": "python",
   "nbconvert_exporter": "python",
   "pygments_lexer": "ipython3",
   "version": "3.10.0"
  },
  "orig_nbformat": 4
 },
 "nbformat": 4,
 "nbformat_minor": 2
}
